{
 "cells": [
  {
   "cell_type": "code",
   "execution_count": 85,
   "metadata": {},
   "outputs": [],
   "source": [
    "import pandas as pd\n",
    "import numpy as np\n",
    "\n",
    "\n",
    "tips = pd.ExcelFile(\"Tips.xlsx\")\n",
    "\n",
    "all_frames = pd.DataFrame()\n",
    "# Loop through each sheet and append to one large sheet\n",
    "for frame_name in tips.sheet_names[1:]:\n",
    "    # Get the sheet with the right headers\n",
    "    temp_df = pd.read_excel(tips, sheet_name=frame_name, header=1)\n",
    "    # Choose only the first 3 columns\n",
    "    temp_df = temp_df[temp_df.columns[0:3]]\n",
    "    # Rename the columns to something human-readable\n",
    "    temp_df.columns = ['tip', 'info', 'link']\n",
    "    # Replace all the nans with empty strings\n",
    "    temp_df = temp_df.replace(np.nan, '', regex=True)\n",
    "    # Add the category we have taken from\n",
    "    temp_df[\"category\"] = temp_sheet\n",
    "    # Append the sheet\n",
    "    all_frames = all_frames.append(temp_df, ignore_index=True)"
   ]
  },
  {
   "cell_type": "code",
   "execution_count": 88,
   "metadata": {},
   "outputs": [],
   "source": [
    "all_frames.to_json(\"tips.json\", orient=\"index\")"
   ]
  },
  {
   "cell_type": "code",
   "execution_count": null,
   "metadata": {},
   "outputs": [],
   "source": []
  }
 ],
 "metadata": {
  "kernelspec": {
   "display_name": "Python 3",
   "language": "python",
   "name": "python3"
  },
  "language_info": {
   "codemirror_mode": {
    "name": "ipython",
    "version": 3
   },
   "file_extension": ".py",
   "mimetype": "text/x-python",
   "name": "python",
   "nbconvert_exporter": "python",
   "pygments_lexer": "ipython3",
   "version": "3.6.5"
  }
 },
 "nbformat": 4,
 "nbformat_minor": 2
}
